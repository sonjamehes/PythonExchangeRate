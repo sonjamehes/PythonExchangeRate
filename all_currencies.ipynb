{
 "cells": [
  {
   "cell_type": "code",
   "execution_count": 130,
   "metadata": {},
   "outputs": [],
   "source": [
    "import pandas as pd\n",
    "import matplotlib.pyplot as plt\n",
    "from datetime import date"
   ]
  },
  {
   "cell_type": "code",
   "execution_count": 133,
   "metadata": {},
   "outputs": [
    {
     "data": {
      "text/html": [
       "<div>\n",
       "<style scoped>\n",
       "    .dataframe tbody tr th:only-of-type {\n",
       "        vertical-align: middle;\n",
       "    }\n",
       "\n",
       "    .dataframe tbody tr th {\n",
       "        vertical-align: top;\n",
       "    }\n",
       "\n",
       "    .dataframe thead th {\n",
       "        text-align: right;\n",
       "    }\n",
       "</style>\n",
       "<table border=\"1\" class=\"dataframe\">\n",
       "  <thead>\n",
       "    <tr style=\"text-align: right;\">\n",
       "      <th></th>\n",
       "      <th>Unnamed: 1</th>\n",
       "      <th>2018M01D02</th>\n",
       "      <th>2018M01D03</th>\n",
       "      <th>2018M01D04</th>\n",
       "      <th>2018M01D05</th>\n",
       "      <th>2018M01D08</th>\n",
       "      <th>2018M01D09</th>\n",
       "      <th>2018M01D10</th>\n",
       "      <th>2018M01D11</th>\n",
       "      <th>2018M01D12</th>\n",
       "      <th>...</th>\n",
       "      <th>2023M08D18</th>\n",
       "      <th>2023M08D21</th>\n",
       "      <th>2023M08D22</th>\n",
       "      <th>2023M08D23</th>\n",
       "      <th>2023M08D24</th>\n",
       "      <th>2023M08D25</th>\n",
       "      <th>2023M08D28</th>\n",
       "      <th>2023M08D29</th>\n",
       "      <th>2023M08D30</th>\n",
       "      <th>2023M08D31</th>\n",
       "    </tr>\n",
       "  </thead>\n",
       "  <tbody>\n",
       "    <tr>\n",
       "      <th>0</th>\n",
       "      <td>EUR</td>\n",
       "      <td>744.3700</td>\n",
       "      <td>744.4200</td>\n",
       "      <td>744.4900</td>\n",
       "      <td>744.5900</td>\n",
       "      <td>744.6700</td>\n",
       "      <td>744.6900</td>\n",
       "      <td>744.6900</td>\n",
       "      <td>744.7400</td>\n",
       "      <td>744.8700</td>\n",
       "      <td>...</td>\n",
       "      <td>745.1400</td>\n",
       "      <td>745.2400</td>\n",
       "      <td>745.3500</td>\n",
       "      <td>745.3100</td>\n",
       "      <td>745.3900</td>\n",
       "      <td>745.370</td>\n",
       "      <td>745.3000</td>\n",
       "      <td>745.2900</td>\n",
       "      <td>745.3100</td>\n",
       "      <td>745.2300</td>\n",
       "    </tr>\n",
       "    <tr>\n",
       "      <th>1</th>\n",
       "      <td>USD</td>\n",
       "      <td>616.9700</td>\n",
       "      <td>619.1600</td>\n",
       "      <td>617.0700</td>\n",
       "      <td>618.1700</td>\n",
       "      <td>621.9600</td>\n",
       "      <td>624.1100</td>\n",
       "      <td>620.9900</td>\n",
       "      <td>619.7400</td>\n",
       "      <td>613.7200</td>\n",
       "      <td>...</td>\n",
       "      <td>685.6900</td>\n",
       "      <td>683.2000</td>\n",
       "      <td>684.6200</td>\n",
       "      <td>689.7800</td>\n",
       "      <td>687.6300</td>\n",
       "      <td>689.650</td>\n",
       "      <td>689.5800</td>\n",
       "      <td>689.8900</td>\n",
       "      <td>684.6500</td>\n",
       "      <td>685.7100</td>\n",
       "    </tr>\n",
       "    <tr>\n",
       "      <th>2</th>\n",
       "      <td>GBP</td>\n",
       "      <td>836.8100</td>\n",
       "      <td>839.8200</td>\n",
       "      <td>835.5400</td>\n",
       "      <td>837.7200</td>\n",
       "      <td>842.2600</td>\n",
       "      <td>843.6500</td>\n",
       "      <td>839.8400</td>\n",
       "      <td>836.0800</td>\n",
       "      <td>837.0900</td>\n",
       "      <td>...</td>\n",
       "      <td>871.5800</td>\n",
       "      <td>871.8800</td>\n",
       "      <td>873.9200</td>\n",
       "      <td>870.1500</td>\n",
       "      <td>870.2700</td>\n",
       "      <td>870.320</td>\n",
       "      <td>868.5000</td>\n",
       "      <td>868.0300</td>\n",
       "      <td>867.4500</td>\n",
       "      <td>869.4000</td>\n",
       "    </tr>\n",
       "    <tr>\n",
       "      <th>3</th>\n",
       "      <td>JPY</td>\n",
       "      <td>5.4996</td>\n",
       "      <td>5.5154</td>\n",
       "      <td>5.4774</td>\n",
       "      <td>5.4569</td>\n",
       "      <td>5.5022</td>\n",
       "      <td>5.5446</td>\n",
       "      <td>5.5732</td>\n",
       "      <td>5.5499</td>\n",
       "      <td>5.5225</td>\n",
       "      <td>...</td>\n",
       "      <td>4.7128</td>\n",
       "      <td>4.6826</td>\n",
       "      <td>4.6966</td>\n",
       "      <td>4.7387</td>\n",
       "      <td>4.7189</td>\n",
       "      <td>4.725</td>\n",
       "      <td>4.7067</td>\n",
       "      <td>4.6894</td>\n",
       "      <td>4.6831</td>\n",
       "      <td>4.7021</td>\n",
       "    </tr>\n",
       "  </tbody>\n",
       "</table>\n",
       "<p>4 rows × 1416 columns</p>\n",
       "</div>"
      ],
      "text/plain": [
       "  Unnamed: 1  2018M01D02  2018M01D03  2018M01D04  2018M01D05  2018M01D08  \\\n",
       "0        EUR    744.3700    744.4200    744.4900    744.5900    744.6700   \n",
       "1        USD    616.9700    619.1600    617.0700    618.1700    621.9600   \n",
       "2        GBP    836.8100    839.8200    835.5400    837.7200    842.2600   \n",
       "3        JPY      5.4996      5.5154      5.4774      5.4569      5.5022   \n",
       "\n",
       "   2018M01D09  2018M01D10  2018M01D11  2018M01D12  ...  2023M08D18  \\\n",
       "0    744.6900    744.6900    744.7400    744.8700  ...    745.1400   \n",
       "1    624.1100    620.9900    619.7400    613.7200  ...    685.6900   \n",
       "2    843.6500    839.8400    836.0800    837.0900  ...    871.5800   \n",
       "3      5.5446      5.5732      5.5499      5.5225  ...      4.7128   \n",
       "\n",
       "   2023M08D21  2023M08D22  2023M08D23  2023M08D24  2023M08D25  2023M08D28  \\\n",
       "0    745.2400    745.3500    745.3100    745.3900     745.370    745.3000   \n",
       "1    683.2000    684.6200    689.7800    687.6300     689.650    689.5800   \n",
       "2    871.8800    873.9200    870.1500    870.2700     870.320    868.5000   \n",
       "3      4.6826      4.6966      4.7387      4.7189       4.725      4.7067   \n",
       "\n",
       "   2023M08D29  2023M08D30  2023M08D31  \n",
       "0    745.2900    745.3100    745.2300  \n",
       "1    689.8900    684.6500    685.7100  \n",
       "2    868.0300    867.4500    869.4000  \n",
       "3      4.6894      4.6831      4.7021  \n",
       "\n",
       "[4 rows x 1416 columns]"
      ]
     },
     "execution_count": 133,
     "metadata": {},
     "output_type": "execute_result"
    }
   ],
   "source": [
    "file_path = 'all_currencies.xlsx'\n",
    "sheet_name = 'DNVALD'\n",
    "\n",
    "df_currencies = pd.read_excel(file_path, sheet_name=sheet_name, header=2, usecols='B:BBM')\n",
    "df_currencies"
   ]
  },
  {
   "cell_type": "code",
   "execution_count": 134,
   "metadata": {},
   "outputs": [],
   "source": [
    "dates = df_currencies.columns[1:].tolist()"
   ]
  },
  {
   "cell_type": "code",
   "execution_count": 135,
   "metadata": {},
   "outputs": [],
   "source": [
    "eur_values = df_currencies.iloc[0, 1:].tolist()\n",
    "usd_values = df_currencies.iloc[1, 1:].tolist()\n",
    "gbp_values = df_currencies.iloc[2, 1:].tolist()\n",
    "jpy_values = df_currencies.iloc[3, 1:].tolist()\n",
    "\n"
   ]
  },
  {
   "cell_type": "code",
   "execution_count": 136,
   "metadata": {},
   "outputs": [],
   "source": [
    "data = {\n",
    "    'Date' : dates,\n",
    "    'EUR' : eur_values,\n",
    "    'USD' : usd_values,\n",
    "    'GBP' : gbp_values,\n",
    "    'JPY' : jpy_values\n",
    "}"
   ]
  },
  {
   "cell_type": "code",
   "execution_count": 154,
   "metadata": {},
   "outputs": [
    {
     "data": {
      "text/html": [
       "<div>\n",
       "<style scoped>\n",
       "    .dataframe tbody tr th:only-of-type {\n",
       "        vertical-align: middle;\n",
       "    }\n",
       "\n",
       "    .dataframe tbody tr th {\n",
       "        vertical-align: top;\n",
       "    }\n",
       "\n",
       "    .dataframe thead th {\n",
       "        text-align: right;\n",
       "    }\n",
       "</style>\n",
       "<table border=\"1\" class=\"dataframe\">\n",
       "  <thead>\n",
       "    <tr style=\"text-align: right;\">\n",
       "      <th></th>\n",
       "      <th>Date</th>\n",
       "      <th>EUR</th>\n",
       "      <th>USD</th>\n",
       "      <th>GBP</th>\n",
       "      <th>JPY</th>\n",
       "    </tr>\n",
       "  </thead>\n",
       "  <tbody>\n",
       "    <tr>\n",
       "      <th>0</th>\n",
       "      <td>2018-01-02</td>\n",
       "      <td>744.37</td>\n",
       "      <td>616.97</td>\n",
       "      <td>836.81</td>\n",
       "      <td>5.4996</td>\n",
       "    </tr>\n",
       "    <tr>\n",
       "      <th>1</th>\n",
       "      <td>2018-01-03</td>\n",
       "      <td>744.42</td>\n",
       "      <td>619.16</td>\n",
       "      <td>839.82</td>\n",
       "      <td>5.5154</td>\n",
       "    </tr>\n",
       "    <tr>\n",
       "      <th>2</th>\n",
       "      <td>2018-01-04</td>\n",
       "      <td>744.49</td>\n",
       "      <td>617.07</td>\n",
       "      <td>835.54</td>\n",
       "      <td>5.4774</td>\n",
       "    </tr>\n",
       "    <tr>\n",
       "      <th>3</th>\n",
       "      <td>2018-01-05</td>\n",
       "      <td>744.59</td>\n",
       "      <td>618.17</td>\n",
       "      <td>837.72</td>\n",
       "      <td>5.4569</td>\n",
       "    </tr>\n",
       "    <tr>\n",
       "      <th>4</th>\n",
       "      <td>2018-01-08</td>\n",
       "      <td>744.67</td>\n",
       "      <td>621.96</td>\n",
       "      <td>842.26</td>\n",
       "      <td>5.5022</td>\n",
       "    </tr>\n",
       "    <tr>\n",
       "      <th>...</th>\n",
       "      <td>...</td>\n",
       "      <td>...</td>\n",
       "      <td>...</td>\n",
       "      <td>...</td>\n",
       "      <td>...</td>\n",
       "    </tr>\n",
       "    <tr>\n",
       "      <th>1410</th>\n",
       "      <td>2023-08-25</td>\n",
       "      <td>745.37</td>\n",
       "      <td>689.65</td>\n",
       "      <td>870.32</td>\n",
       "      <td>4.725</td>\n",
       "    </tr>\n",
       "    <tr>\n",
       "      <th>1411</th>\n",
       "      <td>2023-08-28</td>\n",
       "      <td>745.3</td>\n",
       "      <td>689.58</td>\n",
       "      <td>868.5</td>\n",
       "      <td>4.7067</td>\n",
       "    </tr>\n",
       "    <tr>\n",
       "      <th>1412</th>\n",
       "      <td>2023-08-29</td>\n",
       "      <td>745.29</td>\n",
       "      <td>689.89</td>\n",
       "      <td>868.03</td>\n",
       "      <td>4.6894</td>\n",
       "    </tr>\n",
       "    <tr>\n",
       "      <th>1413</th>\n",
       "      <td>2023-08-30</td>\n",
       "      <td>745.31</td>\n",
       "      <td>684.65</td>\n",
       "      <td>867.45</td>\n",
       "      <td>4.6831</td>\n",
       "    </tr>\n",
       "    <tr>\n",
       "      <th>1414</th>\n",
       "      <td>2023-08-31</td>\n",
       "      <td>745.23</td>\n",
       "      <td>685.71</td>\n",
       "      <td>869.4</td>\n",
       "      <td>4.7021</td>\n",
       "    </tr>\n",
       "  </tbody>\n",
       "</table>\n",
       "<p>1415 rows × 5 columns</p>\n",
       "</div>"
      ],
      "text/plain": [
       "           Date     EUR     USD     GBP     JPY\n",
       "0    2018-01-02  744.37  616.97  836.81  5.4996\n",
       "1    2018-01-03  744.42  619.16  839.82  5.5154\n",
       "2    2018-01-04  744.49  617.07  835.54  5.4774\n",
       "3    2018-01-05  744.59  618.17  837.72  5.4569\n",
       "4    2018-01-08  744.67  621.96  842.26  5.5022\n",
       "...         ...     ...     ...     ...     ...\n",
       "1410 2023-08-25  745.37  689.65  870.32   4.725\n",
       "1411 2023-08-28   745.3  689.58   868.5  4.7067\n",
       "1412 2023-08-29  745.29  689.89  868.03  4.6894\n",
       "1413 2023-08-30  745.31  684.65  867.45  4.6831\n",
       "1414 2023-08-31  745.23  685.71   869.4  4.7021\n",
       "\n",
       "[1415 rows x 5 columns]"
      ]
     },
     "execution_count": 154,
     "metadata": {},
     "output_type": "execute_result"
    }
   ],
   "source": [
    "df_currencies_clean = pd.DataFrame(data)\n",
    "df_currencies_clean\n",
    "\n",
    "df_currencies_clean['Date'] = df_currencies_clean['Date'].str.replace(r'(\\d{4})M(\\d{2})D(\\d{2})', r'\\1-\\2-\\3', regex=True)\n",
    "df_currencies_clean['Date'] = pd.to_datetime(df_currencies_clean['Date'])\n",
    "df_currencies_clean\n"
   ]
  },
  {
   "cell_type": "code",
   "execution_count": 155,
   "metadata": {},
   "outputs": [],
   "source": [
    "df_currencies_clean = df_currencies_clean.replace('..', pd.NA).dropna()"
   ]
  },
  {
   "cell_type": "markdown",
   "metadata": {},
   "source": [
    "-Clean the dataframe, we have records where we have values \"..\". drop those records then cast them to float data types"
   ]
  },
  {
   "cell_type": "code",
   "execution_count": 157,
   "metadata": {},
   "outputs": [
    {
     "data": {
      "text/plain": [
       "Date    datetime64[ns]\n",
       "EUR            float64\n",
       "USD            float64\n",
       "GBP            float64\n",
       "JPY            float64\n",
       "dtype: object"
      ]
     },
     "execution_count": 157,
     "metadata": {},
     "output_type": "execute_result"
    }
   ],
   "source": [
    "columns_to_cast = ['EUR', 'USD', 'GBP', 'JPY']\n",
    "df_currencies_clean[columns_to_cast] = df_currencies_clean[columns_to_cast].astype(float)\n",
    "df_currencies_clean.dtypes"
   ]
  },
  {
   "cell_type": "code",
   "execution_count": 159,
   "metadata": {},
   "outputs": [
    {
     "data": {
      "text/plain": [
       "Date    datetime64[ns]\n",
       "EUR            float64\n",
       "dtype: object"
      ]
     },
     "execution_count": 159,
     "metadata": {},
     "output_type": "execute_result"
    }
   ],
   "source": [
    "df_euro = df_currencies_clean[['Date','EUR']]\n",
    "df_euro.dtypes"
   ]
  },
  {
   "cell_type": "code",
   "execution_count": 161,
   "metadata": {},
   "outputs": [
    {
     "data": {
      "text/plain": [
       "<Axes: xlabel='Date'>"
      ]
     },
     "execution_count": 161,
     "metadata": {},
     "output_type": "execute_result"
    },
    {
     "data": {
      "image/png": "[encoded data removed]",
      "text/plain": [
       "<Figure size 640x480 with 1 Axes>"
      ]
     },
     "metadata": {},
     "output_type": "display_data"
    }
   ],
   "source": [
    "df_euro.plot(x='Date', y=['EUR'])"
   ]
  }
 ],
 "metadata": {
  "kernelspec": {
   "display_name": "venv",
   "language": "python",
   "name": "python3"
  },
  "language_info": {
   "codemirror_mode": {
    "name": "ipython",
    "version": 3
   },
   "file_extension": ".py",
   "mimetype": "text/x-python",
   "name": "python",
   "nbconvert_exporter": "python",
   "pygments_lexer": "ipython3",
   "version": "3.11.4"
  },
  "orig_nbformat": 4
 },
 "nbformat": 4,
 "nbformat_minor": 2
}
