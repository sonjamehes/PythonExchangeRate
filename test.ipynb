{
 "cells": [
  {
   "cell_type": "code",
   "execution_count": 2,
   "metadata": {},
   "outputs": [],
   "source": [
    "import pandas as pd\n",
    "import matplotlib.pyplot as plt"
   ]
  },
  {
   "cell_type": "code",
   "execution_count": null,
   "metadata": {},
   "outputs": [],
   "source": [
    "file_path_csv = 'C:\\\\Users\\\\SonjaMehes\\\\Documents\\\\PythonExchangeRate\\\\data2.csv'\n",
    "file_path_excel = 'C:\\\\Users\\\\SonjaMehes\\\\Documents\\\\PythonExchangeRate\\\\data.xlsx'\n",
    "file_path_allrates = 'C:\\\\Users\\\\SonjaMehes\\\\Documents\\\\PythonExchangeRate\\\\PythonExchange.xlsx'"
   ]
  },
  {
   "cell_type": "code",
   "execution_count": null,
   "metadata": {},
   "outputs": [],
   "source": [
    "df = pd.read_csv(file_path_csv)"
   ]
  },
  {
   "cell_type": "code",
   "execution_count": null,
   "metadata": {},
   "outputs": [],
   "source": [
    "\n",
    "print(df.head())"
   ]
  },
  {
   "cell_type": "code",
   "execution_count": null,
   "metadata": {},
   "outputs": [],
   "source": [
    "# Convert 'Period\\\\Unit:' column to datetime\n",
    "df['Period\\\\Unit:'] = pd.to_datetime(df['Period\\\\Unit:'])\n",
    "\n",
    "# Simple plot\n",
    "df.plot(x='Period\\\\Unit:', y='[Danish krone ]', title='Danish Krone against Euro')\n",
    "plt.show()\n"
   ]
  },
  {
   "cell_type": "code",
   "execution_count": null,
   "metadata": {},
   "outputs": [],
   "source": [
    "df2 = pd.read_excel(file_path_excel, engine='openpyxl', skiprows=3)\n",
    "print(df2)"
   ]
  },
  {
   "cell_type": "code",
   "execution_count": null,
   "metadata": {},
   "outputs": [],
   "source": [
    "\n",
    "df3 = pd.read_excel(file_path_allrates, skiprows=2, usecols='B:AVC')\n",
    "print(df3)"
   ]
  }
 ],
 "metadata": {
  "kernelspec": {
   "display_name": "venv",
   "language": "python",
   "name": "python3"
  },
  "language_info": {
   "codemirror_mode": {
    "name": "ipython",
    "version": 3
   },
   "file_extension": ".py",
   "mimetype": "text/x-python",
   "name": "python",
   "nbconvert_exporter": "python",
   "pygments_lexer": "ipython3",
   "version": "3.11.4"
  },
  "orig_nbformat": 4
 },
 "nbformat": 4,
 "nbformat_minor": 2
}
