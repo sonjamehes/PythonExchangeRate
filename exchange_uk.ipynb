{
 "cells": [
  {
   "cell_type": "code",
   "execution_count": 97,
   "metadata": {},
   "outputs": [],
   "source": [
    "import pandas as pd\n",
    "import matplotlib.pyplot as plt\n",
    "import numpy as np"
   ]
  },
  {
   "cell_type": "markdown",
   "metadata": {},
   "source": [
    "Reading the csv file starting from row 4 (euro vs uk)"
   ]
  },
  {
   "cell_type": "code",
   "execution_count": 98,
   "metadata": {},
   "outputs": [],
   "source": [
    "df_gbp_euro = pd.read_csv('data_uk_2.csv', skiprows=4)\n",
    "df_gbp_euro.dropna(inplace=True)"
   ]
  },
  {
   "cell_type": "code",
   "execution_count": 99,
   "metadata": {},
   "outputs": [
    {
     "data": {
      "text/html": [
       "<div>\n",
       "<style scoped>\n",
       "    .dataframe tbody tr th:only-of-type {\n",
       "        vertical-align: middle;\n",
       "    }\n",
       "\n",
       "    .dataframe tbody tr th {\n",
       "        vertical-align: top;\n",
       "    }\n",
       "\n",
       "    .dataframe thead th {\n",
       "        text-align: right;\n",
       "    }\n",
       "</style>\n",
       "<table border=\"1\" class=\"dataframe\">\n",
       "  <thead>\n",
       "    <tr style=\"text-align: right;\">\n",
       "      <th></th>\n",
       "      <th>Period\\Unit:</th>\n",
       "      <th>[UK pound sterling ]</th>\n",
       "    </tr>\n",
       "  </thead>\n",
       "  <tbody>\n",
       "    <tr>\n",
       "      <th>2023-09-01</th>\n",
       "      <td>0.85538</td>\n",
       "      <td>Normal value (A)</td>\n",
       "    </tr>\n",
       "    <tr>\n",
       "      <th>2023-08-31</th>\n",
       "      <td>0.85718</td>\n",
       "      <td>Normal value (A)</td>\n",
       "    </tr>\n",
       "    <tr>\n",
       "      <th>2023-08-30</th>\n",
       "      <td>0.85920</td>\n",
       "      <td>Normal value (A)</td>\n",
       "    </tr>\n",
       "    <tr>\n",
       "      <th>2023-08-29</th>\n",
       "      <td>0.85860</td>\n",
       "      <td>Normal value (A)</td>\n",
       "    </tr>\n",
       "    <tr>\n",
       "      <th>2023-08-28</th>\n",
       "      <td>0.85815</td>\n",
       "      <td>Normal value (A)</td>\n",
       "    </tr>\n",
       "    <tr>\n",
       "      <th>...</th>\n",
       "      <td>...</td>\n",
       "      <td>...</td>\n",
       "    </tr>\n",
       "    <tr>\n",
       "      <th>1999-01-08</th>\n",
       "      <td>0.70940</td>\n",
       "      <td>Normal value (A)</td>\n",
       "    </tr>\n",
       "    <tr>\n",
       "      <th>1999-01-07</th>\n",
       "      <td>0.70585</td>\n",
       "      <td>Normal value (A)</td>\n",
       "    </tr>\n",
       "    <tr>\n",
       "      <th>1999-01-06</th>\n",
       "      <td>0.70760</td>\n",
       "      <td>Normal value (A)</td>\n",
       "    </tr>\n",
       "    <tr>\n",
       "      <th>1999-01-05</th>\n",
       "      <td>0.71220</td>\n",
       "      <td>Normal value (A)</td>\n",
       "    </tr>\n",
       "    <tr>\n",
       "      <th>1999-01-04</th>\n",
       "      <td>0.71110</td>\n",
       "      <td>Normal value (A)</td>\n",
       "    </tr>\n",
       "  </tbody>\n",
       "</table>\n",
       "<p>6381 rows × 2 columns</p>\n",
       "</div>"
      ],
      "text/plain": [
       "           Period\\Unit: [UK pound sterling ]\n",
       "2023-09-01      0.85538     Normal value (A)\n",
       "2023-08-31      0.85718     Normal value (A)\n",
       "2023-08-30      0.85920     Normal value (A)\n",
       "2023-08-29      0.85860     Normal value (A)\n",
       "2023-08-28      0.85815     Normal value (A)\n",
       "...                 ...                  ...\n",
       "1999-01-08      0.70940     Normal value (A)\n",
       "1999-01-07      0.70585     Normal value (A)\n",
       "1999-01-06      0.70760     Normal value (A)\n",
       "1999-01-05      0.71220     Normal value (A)\n",
       "1999-01-04      0.71110     Normal value (A)\n",
       "\n",
       "[6381 rows x 2 columns]"
      ]
     },
     "execution_count": 99,
     "metadata": {},
     "output_type": "execute_result"
    }
   ],
   "source": [
    "df_gbp_euro"
   ]
  },
  {
   "cell_type": "markdown",
   "metadata": {},
   "source": [
    "- renaming the column 'Period\\\\Unit' to 'Time'\n",
    "- Column 'Time' has unclean data, places where there are hyphens instead of numbers\n",
    "- I will take the column 'Period\\Unit', I will assign it to a variable, change the hyphens to NaNs, reassign the new adjusted column to the original dataframe\n",
    "- clean - remove records that have NaN values\n",
    "- add a new column called 'date' that contains the index values of the dataframe (in our case, the index column had the dates)\n",
    "- creating a plot of the data in the 'df_uk_euro' that has 'date' as the x-axis and 'Period\\Unit' as the y-axis\n",
    "- observe the UK currency against the euro"
   ]
  },
  {
   "cell_type": "code",
   "execution_count": 100,
   "metadata": {},
   "outputs": [],
   "source": [
    "df_gbp_euro.rename(columns={'Period\\\\Unit:': 'GBP'}, inplace=True)\n"
   ]
  },
  {
   "cell_type": "code",
   "execution_count": 101,
   "metadata": {},
   "outputs": [
    {
     "data": {
      "text/html": [
       "<div>\n",
       "<style scoped>\n",
       "    .dataframe tbody tr th:only-of-type {\n",
       "        vertical-align: middle;\n",
       "    }\n",
       "\n",
       "    .dataframe tbody tr th {\n",
       "        vertical-align: top;\n",
       "    }\n",
       "\n",
       "    .dataframe thead th {\n",
       "        text-align: right;\n",
       "    }\n",
       "</style>\n",
       "<table border=\"1\" class=\"dataframe\">\n",
       "  <thead>\n",
       "    <tr style=\"text-align: right;\">\n",
       "      <th></th>\n",
       "      <th>GBP</th>\n",
       "      <th>[UK pound sterling ]</th>\n",
       "    </tr>\n",
       "  </thead>\n",
       "  <tbody>\n",
       "    <tr>\n",
       "      <th>2023-09-01</th>\n",
       "      <td>0.85538</td>\n",
       "      <td>Normal value (A)</td>\n",
       "    </tr>\n",
       "    <tr>\n",
       "      <th>2023-08-31</th>\n",
       "      <td>0.85718</td>\n",
       "      <td>Normal value (A)</td>\n",
       "    </tr>\n",
       "    <tr>\n",
       "      <th>2023-08-30</th>\n",
       "      <td>0.85920</td>\n",
       "      <td>Normal value (A)</td>\n",
       "    </tr>\n",
       "    <tr>\n",
       "      <th>2023-08-29</th>\n",
       "      <td>0.85860</td>\n",
       "      <td>Normal value (A)</td>\n",
       "    </tr>\n",
       "    <tr>\n",
       "      <th>2023-08-28</th>\n",
       "      <td>0.85815</td>\n",
       "      <td>Normal value (A)</td>\n",
       "    </tr>\n",
       "    <tr>\n",
       "      <th>...</th>\n",
       "      <td>...</td>\n",
       "      <td>...</td>\n",
       "    </tr>\n",
       "    <tr>\n",
       "      <th>1999-01-08</th>\n",
       "      <td>0.70940</td>\n",
       "      <td>Normal value (A)</td>\n",
       "    </tr>\n",
       "    <tr>\n",
       "      <th>1999-01-07</th>\n",
       "      <td>0.70585</td>\n",
       "      <td>Normal value (A)</td>\n",
       "    </tr>\n",
       "    <tr>\n",
       "      <th>1999-01-06</th>\n",
       "      <td>0.70760</td>\n",
       "      <td>Normal value (A)</td>\n",
       "    </tr>\n",
       "    <tr>\n",
       "      <th>1999-01-05</th>\n",
       "      <td>0.71220</td>\n",
       "      <td>Normal value (A)</td>\n",
       "    </tr>\n",
       "    <tr>\n",
       "      <th>1999-01-04</th>\n",
       "      <td>0.71110</td>\n",
       "      <td>Normal value (A)</td>\n",
       "    </tr>\n",
       "  </tbody>\n",
       "</table>\n",
       "<p>6381 rows × 2 columns</p>\n",
       "</div>"
      ],
      "text/plain": [
       "                GBP [UK pound sterling ]\n",
       "2023-09-01  0.85538     Normal value (A)\n",
       "2023-08-31  0.85718     Normal value (A)\n",
       "2023-08-30  0.85920     Normal value (A)\n",
       "2023-08-29  0.85860     Normal value (A)\n",
       "2023-08-28  0.85815     Normal value (A)\n",
       "...             ...                  ...\n",
       "1999-01-08  0.70940     Normal value (A)\n",
       "1999-01-07  0.70585     Normal value (A)\n",
       "1999-01-06  0.70760     Normal value (A)\n",
       "1999-01-05  0.71220     Normal value (A)\n",
       "1999-01-04  0.71110     Normal value (A)\n",
       "\n",
       "[6381 rows x 2 columns]"
      ]
     },
     "execution_count": 101,
     "metadata": {},
     "output_type": "execute_result"
    }
   ],
   "source": [
    "df_gbp_euro"
   ]
  },
  {
   "cell_type": "code",
   "execution_count": 102,
   "metadata": {},
   "outputs": [
    {
     "data": {
      "text/plain": [
       "<Axes: xlabel='date'>"
      ]
     },
     "execution_count": 102,
     "metadata": {},
     "output_type": "execute_result"
    },
    {
     "data": {
      "image/png": "[encoded data removed]",
      "text/plain": [
       "<Figure size 640x480 with 1 Axes>"
      ]
     },
     "metadata": {},
     "output_type": "display_data"
    }
   ],
   "source": [
    "dat = df_gbp_euro['GBP'].replace('-', float('nan')).astype(float)\n",
    "df_gbp_euro['GBP'] = dat\n",
    "df_gbp_euro.dropna(inplace=True)\n",
    "df_gbp_euro['date'] = df_uk_euro.index\n",
    "df_gbp_euro.plot(x='date', y=['GBP'])"
   ]
  },
  {
   "cell_type": "code",
   "execution_count": 103,
   "metadata": {},
   "outputs": [
    {
     "data": {
      "text/plain": [
       "2023-09-01    0.85538\n",
       "2023-08-31    0.85718\n",
       "2023-08-30    0.85920\n",
       "2023-08-29    0.85860\n",
       "2023-08-28    0.85815\n",
       "               ...   \n",
       "1999-01-08    0.70940\n",
       "1999-01-07    0.70585\n",
       "1999-01-06    0.70760\n",
       "1999-01-05    0.71220\n",
       "1999-01-04    0.71110\n",
       "Name: GBP, Length: 6319, dtype: float64"
      ]
     },
     "execution_count": 103,
     "metadata": {},
     "output_type": "execute_result"
    }
   ],
   "source": [
    "df_gbp_euro['GBP']"
   ]
  },
  {
   "cell_type": "code",
   "execution_count": 47,
   "metadata": {},
   "outputs": [],
   "source": [
    "# df_uk_euro.plot()\n",
    "\n",
    "# data_price = data_uk['Time'].to_numpy()\n",
    "# max_val = np.max(data_price)\n",
    "# max_idx = np.argmax(data_price)\n",
    "# min_val = np.min(data_price)\n",
    "# min_idx = np.argmin(data_price)\n",
    "\n",
    "# print(f\"Max val of {max_val:.3f} at date {max_idx}\")\n",
    "# print(f\"Min val of {min_val:.3f} at date {min_idx}\")\n",
    "\n",
    "# plt.axhline(max_val, linestyle='dotted')\n",
    "# plt.axhline(min_val, linestyle='dotted')"
   ]
  },
  {
   "cell_type": "code",
   "execution_count": null,
   "metadata": {},
   "outputs": [],
   "source": []
  }
 ],
 "metadata": {
  "kernelspec": {
   "display_name": "venv",
   "language": "python",
   "name": "python3"
  },
  "language_info": {
   "codemirror_mode": {
    "name": "ipython",
    "version": 3
   },
   "file_extension": ".py",
   "mimetype": "text/x-python",
   "name": "python",
   "nbconvert_exporter": "python",
   "pygments_lexer": "ipython3",
   "version": "3.11.4"
  },
  "orig_nbformat": 4
 },
 "nbformat": 4,
 "nbformat_minor": 2
}
